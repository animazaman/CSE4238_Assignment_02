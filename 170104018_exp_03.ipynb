{
  "nbformat": 4,
  "nbformat_minor": 0,
  "metadata": {
    "colab": {
      "name": "170104018_exp_03.ipynb",
      "provenance": [],
      "collapsed_sections": []
    },
    "kernelspec": {
      "name": "python3",
      "display_name": "Python 3"
    },
    "language_info": {
      "name": "python"
    }
  },
  "cells": [
    {
      "cell_type": "markdown",
      "metadata": {
        "id": "O40Gz5x2l6Jp"
      },
      "source": [
        "# **Experiment_03**"
      ]
    },
    {
      "cell_type": "code",
      "metadata": {
        "id": "UQL3Fm-d3g4Q"
      },
      "source": [
        "import pandas as pd \n",
        "import numpy as np"
      ],
      "execution_count": null,
      "outputs": []
    },
    {
      "cell_type": "code",
      "metadata": {
        "colab": {
          "base_uri": "https://localhost:8080/"
        },
        "id": "vSQB4Ddc4Cxl",
        "outputId": "a62017e8-8c7e-434b-8dde-eedf604669c1"
      },
      "source": [
        "from google.colab import drive\n",
        "drive.mount('/content/gdrive')"
      ],
      "execution_count": null,
      "outputs": [
        {
          "output_type": "stream",
          "name": "stdout",
          "text": [
            "Drive already mounted at /content/gdrive; to attempt to forcibly remount, call drive.mount(\"/content/gdrive\", force_remount=True).\n"
          ]
        }
      ]
    },
    {
      "cell_type": "code",
      "metadata": {
        "colab": {
          "base_uri": "https://localhost:8080/"
        },
        "id": "NNIOwSy442jE",
        "outputId": "8b67df5f-e447-4fc8-bbcf-72cde975b023"
      },
      "source": [
        "train_data = pd.read_csv('/content/gdrive/MyDrive/soft computing /assignment_2/Dataset_2/verification_train.csv')\n",
        "test_data =pd.read_csv('/content/gdrive/MyDrive/soft computing /assignment_2/Dataset_2/verification_test.csv')\n",
        "print(\"Train data:\",train_data)\n",
        "print(\"Test data:\",test_data)"
      ],
      "execution_count": null,
      "outputs": [
        {
          "output_type": "stream",
          "name": "stdout",
          "text": [
            "Train data:        label  pixel1  pixel2  pixel3  ...  pixel781  pixel782  pixel783  pixel784\n",
            "0          2       0       0       0  ...         0         0         0         0\n",
            "1          9       0       0       0  ...         0         0         0         0\n",
            "2          6       0       0       0  ...         0         0         0         0\n",
            "3          0       0       0       0  ...         0         0         0         0\n",
            "4          3       0       0       0  ...         0         0         0         0\n",
            "...      ...     ...     ...     ...  ...       ...       ...       ...       ...\n",
            "59995      9       0       0       0  ...         0         0         0         0\n",
            "59996      1       0       0       0  ...         0         0         0         0\n",
            "59997      8       0       0       0  ...         0         0         0         0\n",
            "59998      8       0       0       0  ...         0         0         0         0\n",
            "59999      7       0       0       0  ...         0         0         0         0\n",
            "\n",
            "[60000 rows x 785 columns]\n",
            "Test data:       label  pixel1  pixel2  pixel3  ...  pixel781  pixel782  pixel783  pixel784\n",
            "0         0       0       0       0  ...         0         0         0         0\n",
            "1         1       0       0       0  ...         0         0         0         0\n",
            "2         2       0       0       0  ...        31         0         0         0\n",
            "3         2       0       0       0  ...       222        56         0         0\n",
            "4         3       0       0       0  ...         0         0         0         0\n",
            "...     ...     ...     ...     ...  ...       ...       ...       ...       ...\n",
            "9995      0       0       0       0  ...         1         0         0         0\n",
            "9996      6       0       0       0  ...        28         0         0         0\n",
            "9997      8       0       0       0  ...        42         0         1         0\n",
            "9998      8       0       1       3  ...         0         0         0         0\n",
            "9999      1       0       0       0  ...         0         0         0         0\n",
            "\n",
            "[10000 rows x 785 columns]\n"
          ]
        }
      ]
    },
    {
      "cell_type": "code",
      "metadata": {
        "id": "QBsy6hHN6y6W"
      },
      "source": [
        "test_label=test_data['label']\n",
        "\n",
        "train_label=train_data['label']\n",
        "data_names=[test_label,train_label]\n",
        "all_labels=pd.concat(data_names,ignore_index=True)"
      ],
      "execution_count": null,
      "outputs": []
    },
    {
      "cell_type": "code",
      "metadata": {
        "colab": {
          "base_uri": "https://localhost:8080/"
        },
        "id": "55XEZWl47LdR",
        "outputId": "2f19ca23-8252-4713-d512-bb384212fbc7"
      },
      "source": [
        "data_name=[test_data,train_data]\n",
        "all_image=pd.concat(data_name,ignore_index=True)\n",
        "all_image=all_image.drop(labels='label',axis=1)\n",
        "print(all_image.shape)"
      ],
      "execution_count": null,
      "outputs": [
        {
          "output_type": "stream",
          "name": "stdout",
          "text": [
            "(70000, 784)\n"
          ]
        }
      ]
    },
    {
      "cell_type": "code",
      "metadata": {
        "id": "HSXplIVa7rhV"
      },
      "source": [
        "all_image=all_image/255.0\n",
        "all_image=all_image.values.reshape(-1,28,28,1)"
      ],
      "execution_count": null,
      "outputs": []
    },
    {
      "cell_type": "code",
      "metadata": {
        "colab": {
          "base_uri": "https://localhost:8080/",
          "height": 282
        },
        "id": "Gf1tNdkl7uTq",
        "outputId": "8c17b62b-eabc-4522-fbc0-6560f30f6d62"
      },
      "source": [
        "import matplotlib.pyplot as plt \n",
        "\n",
        "show_img = all_image[1].reshape(28, 28)\n",
        "plt.imshow(show_img, cmap='gray')\n",
        "print(all_labels[0])"
      ],
      "execution_count": null,
      "outputs": [
        {
          "output_type": "stream",
          "name": "stdout",
          "text": [
            "0\n"
          ]
        },
        {
          "output_type": "display_data",
          "data": {
            "image/png": "[encoded data removed]",
            "text/plain": [
              "<Figure size 432x288 with 1 Axes>"
            ]
          },
          "metadata": {
            "needs_background": "light"
          }
        }
      ]
    },
    {
      "cell_type": "code",
      "metadata": {
        "id": "zP_09TFuBdpi"
      },
      "source": [
        "import torch\n",
        "import torch.nn as nn\n",
        "import torch.nn.functional as F\n",
        "import torchvision\n",
        "import torchvision.transforms as transforms\n",
        "import matplotlib.pyplot as plt \n",
        "from sklearn.model_selection import train_test_split"
      ],
      "execution_count": null,
      "outputs": []
    },
    {
      "cell_type": "code",
      "metadata": {
        "id": "ayJIJ8R5A0_c"
      },
      "source": [
        "X_train, X_test, y_train, y_test = train_test_split(all_image, all_labels, test_size=0.2)"
      ],
      "execution_count": null,
      "outputs": []
    },
    {
      "cell_type": "code",
      "metadata": {
        "id": "EZh24mh8BScc"
      },
      "source": [
        "train_dataset = list(zip(X_train,y_train))\n",
        "test_dataset = list(zip(X_test,y_test))"
      ],
      "execution_count": null,
      "outputs": []
    },
    {
      "cell_type": "code",
      "metadata": {
        "id": "FiijTmnzEUlq"
      },
      "source": [
        "import torch\n",
        "import torch.nn as nn\n",
        "import torchvision.transforms as transforms\n",
        "import torchvision.datasets as dsets\n",
        "\n",
        "# Hyperparameters\n",
        "batch_size = 20\n",
        "num_iters = 20000\n",
        "input_dim = 28*28 # num_features = 784\n",
        "num_hidden = 200\n",
        "output_dim = 10\n",
        "num_epochs = num_iters / (len(train_dataset) / batch_size)\n",
        "num_epochs = int(num_epochs)\n",
        "learning_rate = 0.01\n",
        "\n",
        "# Device\n",
        "device = torch.device(\"cuda:0\" if torch.cuda.is_available() else \"cpu\")\n",
        "\n",
        "\n",
        "\n",
        "\n",
        "num_epochs = num_iters / (len(train_dataset) / batch_size)\n",
        "num_epochs = int(num_epochs)\n",
        "\n",
        "train_loader = torch.utils.data.DataLoader(dataset=train_dataset, \n",
        "                                           batch_size=batch_size, \n",
        "                                           shuffle=True)   # It's better to shuffle the whole training dataset! \n",
        "\n",
        "test_loader = torch.utils.data.DataLoader(dataset=test_dataset, \n",
        "                                          batch_size=batch_size, \n",
        "                                          shuffle=False) "
      ],
      "execution_count": null,
      "outputs": []
    },
    {
      "cell_type": "code",
      "metadata": {
        "colab": {
          "base_uri": "https://localhost:8080/"
        },
        "id": "DTjeCOTsEZhS",
        "outputId": "f9d0a424-b4fc-4874-cd2e-328c97101c1b"
      },
      "source": [
        "class DeepNeuralNetworkModel(nn.Module):\n",
        "    def __init__(self, input_size, num_classes, num_hidden):\n",
        "        super().__init__()\n",
        "      \n",
        "        self.linear_1 = nn.Linear(input_size, num_hidden)\n",
        "       \n",
        "        self.relu_1 = nn.ReLU()\n",
        "\n",
        "        \n",
        "        self.linear_2 = nn.Linear(num_hidden, num_hidden)\n",
        "       \n",
        "        self.relu_2 = nn.ReLU()\n",
        "\n",
        "        self.linear_3 = nn.Linear(num_hidden, num_hidden)\n",
        "      \n",
        "        self.relu_3 = nn.ReLU()\n",
        "\n",
        "        self.linear_4 = nn.Linear(num_hidden, num_hidden)\n",
        "        \n",
        "        self.relu_4 = nn.ReLU()\n",
        " \n",
        "         \n",
        "        self.linear_5= nn.Linear(num_hidden, num_hidden)\n",
        "        \n",
        "        self.relu_5= nn.ReLU()\n",
        " \n",
        "         \n",
        "        self.linear_6 = nn.Linear(num_hidden, num_hidden)\n",
        "        \n",
        "        self.relu_6 = nn.ReLU()\n",
        "\n",
        "        ### Output layer: 100 --> 10\n",
        "        self.linear_out = nn.Linear(num_hidden, num_classes)\n",
        "\n",
        "    def forward(self, x):\n",
        "        ### 1st hidden layer\n",
        "        out  = self.linear_1(x)\n",
        "        ### Non-linearity in 1st hidden layer\n",
        "        out = self.relu_1(out)\n",
        "        \n",
        "        ### 2nd hidden layer\n",
        "        out  = self.linear_2(out)\n",
        "        ### Non-linearity in 2nd hidden layer\n",
        "        out = self.relu_2(out)\n",
        "\n",
        "        ### 3rd hidden layer\n",
        "        out  = self.linear_3(out)\n",
        "        ### Non-linearity in 3rd hidden layer\n",
        "        out = self.relu_3(out)\n",
        "\n",
        "        out  = self.linear_4(out)\n",
        "        ### Non-linearity in 3rd hidden layer\n",
        "        out = self.relu_4(out)\n",
        " \n",
        "        out  = self.linear_5(out)\n",
        "        ### Non-linearity in 3rd hidden layer\n",
        "        out = self.relu_5(out)\n",
        " \n",
        "        out  = self.linear_6(out)\n",
        "        ### Non-linearity in 3rd hidden layer\n",
        "        out = self.relu_6(out)\n",
        "\n",
        "        \n",
        "\n",
        "        # Linear layer (output)\n",
        "        probas  = self.linear_out(out)\n",
        "        return probas\n",
        "\n",
        "# INSTANTIATE MODEL CLASS\n",
        "\n",
        "model = DeepNeuralNetworkModel(input_size = input_dim,\n",
        "                               num_classes = output_dim,\n",
        "                               num_hidden = 128)\n",
        "# To enable GPU\n",
        "model.to(device)\n",
        "\n",
        "# INSTANTIATE LOSS & OPTIMIZER CLASS\n",
        "\n",
        "criterion = nn.CrossEntropyLoss()\n",
        "optimizer = torch.optim.Adam(model.parameters(), lr=learning_rate)\n",
        "iteration_loss = []\n",
        "iter = 0\n",
        "for epoch in range(num_epochs):\n",
        "    for i, (images, labels) in enumerate(train_loader):\n",
        "\n",
        "        images = images.view(-1, 28*28).to(device)\n",
        "        labels = labels.to(device)\n",
        "\n",
        "        # Clear gradients w.r.t. parameters\n",
        "        optimizer.zero_grad()\n",
        "\n",
        "        # Forward pass to get output/logits\n",
        "        outputs = model(images.float())\n",
        "\n",
        "        # Calculate Loss: softmax --> cross entropy loss\n",
        "        loss = criterion(outputs, labels)\n",
        "\n",
        "        # Getting gradients w.r.t. parameters\n",
        "        loss.backward()\n",
        "\n",
        "        # Updating parameters\n",
        "        optimizer.step()\n",
        "\n",
        "        iter += 1\n",
        "\n",
        "        if iter % 500 == 0:\n",
        "            # Calculate Accuracy         \n",
        "            correct = 0\n",
        "            total = 0\n",
        "            # Iterate through test dataset\n",
        "            for images, labels in test_loader:\n",
        "               \n",
        "                images = images.view(-1, 28*28).to(device)\n",
        "\n",
        "                # Forward pass only to get logits/output\n",
        "                outputs = model(images.float())\n",
        "\n",
        "                # Get predictions from the maximum value\n",
        "                _, predicted = torch.max(outputs, 1)\n",
        "\n",
        "                # Total number of labels\n",
        "                total += labels.size(0)\n",
        "\n",
        "\n",
        "                # Total correct predictions\n",
        "                if torch.cuda.is_available():\n",
        "                    correct += (predicted.cpu() == labels.cpu()).sum() \n",
        "                else:\n",
        "                    correct += (predicted == labels).sum()\n",
        "\n",
        "            accuracy = 100 * correct.item() / total\n",
        "             \n",
        " \n",
        "            # Print Loss\n",
        "            iteration_loss.append(loss.item())\n",
        "        \n",
        "           \n",
        "            print('Iteration: {}. Loss: {}. Accuracy: {}'.format(iter, loss.item(), accuracy))"
      ],
      "execution_count": null,
      "outputs": [
        {
          "output_type": "stream",
          "name": "stdout",
          "text": [
            "Iteration: 500. Loss: 0.5923391580581665. Accuracy: 67.84285714285714\n",
            "Iteration: 1000. Loss: 0.9417664408683777. Accuracy: 71.17142857142858\n",
            "Iteration: 1500. Loss: 0.443733274936676. Accuracy: 74.57142857142857\n",
            "Iteration: 2000. Loss: 0.7325505018234253. Accuracy: 76.05\n",
            "Iteration: 2500. Loss: 0.9417930841445923. Accuracy: 76.35\n",
            "Iteration: 3000. Loss: 0.7568053007125854. Accuracy: 64.44285714285714\n",
            "Iteration: 3500. Loss: 0.945647120475769. Accuracy: 74.50714285714285\n",
            "Iteration: 4000. Loss: 0.4477878212928772. Accuracy: 75.90714285714286\n",
            "Iteration: 4500. Loss: 0.36150625348091125. Accuracy: 77.57857142857142\n",
            "Iteration: 5000. Loss: 0.2439306080341339. Accuracy: 78.57857142857142\n",
            "Iteration: 5500. Loss: 0.42091092467308044. Accuracy: 77.19285714285714\n",
            "Iteration: 6000. Loss: 1.1940068006515503. Accuracy: 74.10714285714286\n",
            "Iteration: 6500. Loss: 0.4605633616447449. Accuracy: 75.07142857142857\n",
            "Iteration: 7000. Loss: 0.5598678588867188. Accuracy: 74.26428571428572\n",
            "Iteration: 7500. Loss: 0.6819599866867065. Accuracy: 74.57142857142857\n",
            "Iteration: 8000. Loss: 0.7143413424491882. Accuracy: 72.69285714285714\n",
            "Iteration: 8500. Loss: 0.3605450987815857. Accuracy: 77.32857142857142\n",
            "Iteration: 9000. Loss: 0.6498095989227295. Accuracy: 79.16428571428571\n",
            "Iteration: 9500. Loss: 0.5308454632759094. Accuracy: 78.34285714285714\n",
            "Iteration: 10000. Loss: 0.4618902802467346. Accuracy: 79.68571428571428\n",
            "Iteration: 10500. Loss: 0.8184947967529297. Accuracy: 75.87142857142857\n",
            "Iteration: 11000. Loss: 0.3708278238773346. Accuracy: 78.4\n",
            "Iteration: 11500. Loss: 0.5356654524803162. Accuracy: 79.2\n",
            "Iteration: 12000. Loss: 1.0501405000686646. Accuracy: 79.26428571428572\n",
            "Iteration: 12500. Loss: 0.5059984922409058. Accuracy: 76.43571428571428\n",
            "Iteration: 13000. Loss: 1.3253226280212402. Accuracy: 77.53571428571429\n",
            "Iteration: 13500. Loss: 0.5423524379730225. Accuracy: 78.81428571428572\n",
            "Iteration: 14000. Loss: 0.473776251077652. Accuracy: 79.65\n",
            "Iteration: 14500. Loss: 1.0063040256500244. Accuracy: 79.4\n",
            "Iteration: 15000. Loss: 0.516816258430481. Accuracy: 80.31428571428572\n",
            "Iteration: 15500. Loss: 0.4143873155117035. Accuracy: 79.03571428571429\n",
            "Iteration: 16000. Loss: 0.9551346898078918. Accuracy: 77.75\n",
            "Iteration: 16500. Loss: 0.514762282371521. Accuracy: 80.65714285714286\n",
            "Iteration: 17000. Loss: 0.883196234703064. Accuracy: 58.45\n",
            "Iteration: 17500. Loss: 0.9249460101127625. Accuracy: 77.83571428571429\n",
            "Iteration: 18000. Loss: 0.7865056991577148. Accuracy: 79.11428571428571\n",
            "Iteration: 18500. Loss: 0.7270397543907166. Accuracy: 78.13571428571429\n",
            "Iteration: 19000. Loss: 0.5582500696182251. Accuracy: 78.74285714285715\n",
            "Iteration: 19500. Loss: 1.0357732772827148. Accuracy: 78.07857142857142\n"
          ]
        }
      ]
    },
    {
      "cell_type": "code",
      "metadata": {
        "colab": {
          "base_uri": "https://localhost:8080/",
          "height": 279
        },
        "id": "mEWMoMBzJJLV",
        "outputId": "dccedc1f-205d-42c9-e5c0-98e700a5d2f5"
      },
      "source": [
        "plt.plot(iteration_loss)\n",
        "plt.ylabel('Cross Entropy Loss')\n",
        "plt.xlabel('Iteration (in every 500)')\n",
        "plt.show()"
      ],
      "execution_count": null,
      "outputs": [
        {
          "output_type": "display_data",
          "data": {
            "image/png": "[encoded data removed]",
            "text/plain": [
              "<Figure size 432x288 with 1 Axes>"
            ]
          },
          "metadata": {
            "needs_background": "light"
          }
        }
      ]
    },
    {
      "cell_type": "code",
      "metadata": {
        "id": "5jkCAki-PWT5"
      },
      "source": [
        "import torch\n",
        "import torch.nn as nn\n",
        "import torchvision.transforms as transforms\n",
        "import torchvision.datasets as dsets\n",
        "\n",
        "# Hyperparameters\n",
        "batch_size = 50\n",
        "num_iters = 50000\n",
        "input_dim = 28*28 # num_features = 784\n",
        "num_hidden = 200\n",
        "output_dim = 10\n",
        "num_epochs = num_iters / (len(train_dataset) / batch_size)\n",
        "num_epochs = int(num_epochs)\n",
        "learning_rate = 0.01\n",
        "\n",
        "# Device\n",
        "device = torch.device(\"cuda:0\" if torch.cuda.is_available() else \"cpu\")\n",
        "\n",
        "\n",
        "\n",
        "\n",
        "num_epochs = num_iters / (len(train_dataset) / batch_size)\n",
        "num_epochs = int(num_epochs)\n",
        "\n",
        "train_loader = torch.utils.data.DataLoader(dataset=train_dataset, \n",
        "                                           batch_size=batch_size, \n",
        "                                           shuffle=True)   # It's better to shuffle the whole training dataset! \n",
        "\n",
        "test_loader = torch.utils.data.DataLoader(dataset=test_dataset, \n",
        "                                          batch_size=batch_size, \n",
        "                                          shuffle=False) "
      ],
      "execution_count": null,
      "outputs": []
    },
    {
      "cell_type": "code",
      "metadata": {
        "colab": {
          "base_uri": "https://localhost:8080/"
        },
        "id": "ejp8byRsPpX6",
        "outputId": "9444518b-d741-442c-953b-d65fa023e756"
      },
      "source": [
        "class DeepNeuralNetworkModel(nn.Module):\n",
        "    def __init__(self, input_size, num_classes, num_hidden):\n",
        "        super().__init__()\n",
        "      \n",
        "        self.linear_1 = nn.Linear(input_size, num_hidden)\n",
        "       \n",
        "        self.relu_1 = nn.ReLU()\n",
        "\n",
        "        \n",
        "        self.linear_2 = nn.Linear(num_hidden, num_hidden)\n",
        "       \n",
        "        self.relu_2 = nn.ReLU()\n",
        "\n",
        "        self.linear_3 = nn.Linear(num_hidden, num_hidden)\n",
        "      \n",
        "        self.relu_3 = nn.ReLU()\n",
        "\n",
        "        self.linear_4 = nn.Linear(num_hidden, num_hidden)\n",
        "        \n",
        "        self.relu_4 = nn.ReLU()\n",
        " \n",
        "\n",
        "        ### Output layer: 100 --> 10\n",
        "        self.linear_out = nn.Linear(num_hidden, num_classes)\n",
        "\n",
        "    def forward(self, x):\n",
        "        ### 1st hidden layer\n",
        "        out  = self.linear_1(x)\n",
        "        ### Non-linearity in 1st hidden layer\n",
        "        out = self.relu_1(out)\n",
        "        \n",
        "        ### 2nd hidden layer\n",
        "        out  = self.linear_2(out)\n",
        "        ### Non-linearity in 2nd hidden layer\n",
        "        out = self.relu_2(out)\n",
        "\n",
        "        ### 3rd hidden layer\n",
        "        out  = self.linear_3(out)\n",
        "        ### Non-linearity in 3rd hidden layer\n",
        "        out = self.relu_3(out)\n",
        "\n",
        "        out  = self.linear_4(out)\n",
        "        ### Non-linearity in 3rd hidden layer\n",
        "        out = self.relu_4(out)\n",
        "       \n",
        "\n",
        "        # Linear layer (output)\n",
        "        probas  = self.linear_out(out)\n",
        "        return probas\n",
        "\n",
        "# INSTANTIATE MODEL CLASS\n",
        "\n",
        "model = DeepNeuralNetworkModel(input_size = input_dim,\n",
        "                               num_classes = output_dim,\n",
        "                               num_hidden = 128)\n",
        "# To enable GPU\n",
        "model.to(device)\n",
        "\n",
        "# INSTANTIATE LOSS & OPTIMIZER CLASS\n",
        "\n",
        "criterion = nn.CrossEntropyLoss()\n",
        "optimizer = torch.optim.Adam(model.parameters(), lr=learning_rate)\n",
        "iteration_loss = []\n",
        "iter = 0\n",
        "for epoch in range(num_epochs):\n",
        "    for i, (images, labels) in enumerate(train_loader):\n",
        "\n",
        "        images = images.view(-1, 28*28).to(device)\n",
        "        labels = labels.to(device)\n",
        "\n",
        "        # Clear gradients w.r.t. parameters\n",
        "        optimizer.zero_grad()\n",
        "\n",
        "        # Forward pass to get output/logits\n",
        "        outputs = model(images.float())\n",
        "\n",
        "        # Calculate Loss: softmax --> cross entropy loss\n",
        "        loss = criterion(outputs, labels)\n",
        "\n",
        "        # Getting gradients w.r.t. parameters\n",
        "        loss.backward()\n",
        "\n",
        "        # Updating parameters\n",
        "        optimizer.step()\n",
        "\n",
        "        iter += 1\n",
        "\n",
        "        if iter % 500 == 0:\n",
        "            # Calculate Accuracy         \n",
        "            correct = 0\n",
        "            total = 0\n",
        "            # Iterate through test dataset\n",
        "            for images, labels in test_loader:\n",
        "               \n",
        "                images = images.view(-1, 28*28).to(device)\n",
        "\n",
        "                # Forward pass only to get logits/output\n",
        "                outputs = model(images.float())\n",
        "\n",
        "                # Get predictions from the maximum value\n",
        "                _, predicted = torch.max(outputs, 1)\n",
        "\n",
        "                # Total number of labels\n",
        "                total += labels.size(0)\n",
        "\n",
        "\n",
        "                # Total correct predictions\n",
        "                if torch.cuda.is_available():\n",
        "                    correct += (predicted.cpu() == labels.cpu()).sum() \n",
        "                else:\n",
        "                    correct += (predicted == labels).sum()\n",
        "\n",
        "            accuracy = 100 * correct.item() / total\n",
        "             \n",
        " \n",
        "            # Print Loss\n",
        "            iteration_loss.append(loss.item())\n",
        "        \n",
        "           \n",
        "            print('Iteration: {}. Loss: {}. Accuracy: {}'.format(iter, loss.item(), accuracy))"
      ],
      "execution_count": null,
      "outputs": [
        {
          "output_type": "stream",
          "name": "stdout",
          "text": [
            "Iteration: 500. Loss: 0.5814636945724487. Accuracy: 79.62142857142857\n",
            "Iteration: 1000. Loss: 0.7200508117675781. Accuracy: 79.93571428571428\n",
            "Iteration: 1500. Loss: 0.5292056202888489. Accuracy: 81.2\n",
            "Iteration: 2000. Loss: 0.4613950848579407. Accuracy: 83.68571428571428\n",
            "Iteration: 2500. Loss: 0.7153890132904053. Accuracy: 81.05714285714286\n",
            "Iteration: 3000. Loss: 0.8839801549911499. Accuracy: 84.20714285714286\n",
            "Iteration: 3500. Loss: 1.3058617115020752. Accuracy: 84.91428571428571\n",
            "Iteration: 4000. Loss: 0.5271304249763489. Accuracy: 83.64285714285714\n",
            "Iteration: 4500. Loss: 0.5236450433731079. Accuracy: 82.75\n",
            "Iteration: 5000. Loss: 0.15382613241672516. Accuracy: 85.15714285714286\n",
            "Iteration: 5500. Loss: 0.17845499515533447. Accuracy: 84.72142857142858\n",
            "Iteration: 6000. Loss: 0.5892324447631836. Accuracy: 84.9\n",
            "Iteration: 6500. Loss: 0.3767901360988617. Accuracy: 82.27857142857142\n",
            "Iteration: 7000. Loss: 0.47560063004493713. Accuracy: 85.9\n",
            "Iteration: 7500. Loss: 0.34337088465690613. Accuracy: 84.25\n",
            "Iteration: 8000. Loss: 0.21624115109443665. Accuracy: 84.10714285714286\n",
            "Iteration: 8500. Loss: 0.8431606292724609. Accuracy: 85.45\n",
            "Iteration: 9000. Loss: 0.35899901390075684. Accuracy: 83.94285714285714\n",
            "Iteration: 9500. Loss: 0.7664427757263184. Accuracy: 85.35714285714286\n",
            "Iteration: 10000. Loss: 0.43155643343925476. Accuracy: 85.55714285714286\n",
            "Iteration: 10500. Loss: 0.40303710103034973. Accuracy: 85.25\n",
            "Iteration: 11000. Loss: 0.4521990716457367. Accuracy: 83.08571428571429\n",
            "Iteration: 11500. Loss: 0.5406219959259033. Accuracy: 85.79285714285714\n",
            "Iteration: 12000. Loss: 0.30795228481292725. Accuracy: 85.75714285714285\n",
            "Iteration: 12500. Loss: 0.2631033658981323. Accuracy: 86.05714285714286\n",
            "Iteration: 13000. Loss: 0.27204880118370056. Accuracy: 84.37857142857143\n",
            "Iteration: 13500. Loss: 0.48873192071914673. Accuracy: 84.19285714285714\n",
            "Iteration: 14000. Loss: 0.5000995397567749. Accuracy: 83.91428571428571\n",
            "Iteration: 14500. Loss: 0.27889764308929443. Accuracy: 84.96428571428571\n",
            "Iteration: 15000. Loss: 0.23788650333881378. Accuracy: 84.56428571428572\n",
            "Iteration: 15500. Loss: 0.3894239068031311. Accuracy: 84.68571428571428\n",
            "Iteration: 16000. Loss: 0.27862367033958435. Accuracy: 84.07857142857142\n",
            "Iteration: 16500. Loss: 0.3585149645805359. Accuracy: 85.86428571428571\n",
            "Iteration: 17000. Loss: 0.2968461513519287. Accuracy: 85.67857142857143\n",
            "Iteration: 17500. Loss: 0.4289911687374115. Accuracy: 85.70714285714286\n",
            "Iteration: 18000. Loss: 0.48512008786201477. Accuracy: 85.05\n",
            "Iteration: 18500. Loss: 0.42516854405403137. Accuracy: 85.41428571428571\n",
            "Iteration: 19000. Loss: 0.3709890842437744. Accuracy: 86.17142857142858\n",
            "Iteration: 19500. Loss: 0.43661999702453613. Accuracy: 85.35714285714286\n",
            "Iteration: 20000. Loss: 0.41819271445274353. Accuracy: 86.46428571428571\n",
            "Iteration: 20500. Loss: 0.2631041705608368. Accuracy: 84.76428571428572\n",
            "Iteration: 21000. Loss: 0.3607617914676666. Accuracy: 85.68571428571428\n",
            "Iteration: 21500. Loss: 0.553067147731781. Accuracy: 84.71428571428571\n",
            "Iteration: 22000. Loss: 0.33920565247535706. Accuracy: 84.57142857142857\n",
            "Iteration: 22500. Loss: 0.29351580142974854. Accuracy: 84.71428571428571\n",
            "Iteration: 23000. Loss: 0.3074605464935303. Accuracy: 84.38571428571429\n",
            "Iteration: 23500. Loss: 0.4950684607028961. Accuracy: 85.05714285714286\n",
            "Iteration: 24000. Loss: 0.5861634612083435. Accuracy: 84.22857142857143\n",
            "Iteration: 24500. Loss: 0.4430856704711914. Accuracy: 82.78571428571429\n",
            "Iteration: 25000. Loss: 0.269152969121933. Accuracy: 85.35\n",
            "Iteration: 25500. Loss: 0.494019478559494. Accuracy: 85.77857142857142\n",
            "Iteration: 26000. Loss: 0.2664461135864258. Accuracy: 85.05\n",
            "Iteration: 26500. Loss: 0.2410370111465454. Accuracy: 83.98571428571428\n",
            "Iteration: 27000. Loss: 0.4164585471153259. Accuracy: 85.82142857142857\n",
            "Iteration: 27500. Loss: 0.4487702250480652. Accuracy: 85.8\n",
            "Iteration: 28000. Loss: 0.4296872317790985. Accuracy: 86.07857142857142\n",
            "Iteration: 28500. Loss: 0.23344027996063232. Accuracy: 86.26428571428572\n",
            "Iteration: 29000. Loss: 0.4442141354084015. Accuracy: 84.19285714285714\n",
            "Iteration: 29500. Loss: 0.5594165921211243. Accuracy: 85.71428571428571\n",
            "Iteration: 30000. Loss: 0.13850568234920502. Accuracy: 85.32142857142857\n",
            "Iteration: 30500. Loss: 0.17713558673858643. Accuracy: 83.65714285714286\n",
            "Iteration: 31000. Loss: 0.458637535572052. Accuracy: 84.77142857142857\n",
            "Iteration: 31500. Loss: 0.4039977192878723. Accuracy: 84.69285714285714\n",
            "Iteration: 32000. Loss: 0.30300644040107727. Accuracy: 86.19285714285714\n",
            "Iteration: 32500. Loss: 0.39046549797058105. Accuracy: 84.95\n",
            "Iteration: 33000. Loss: 0.37973257899284363. Accuracy: 84.25\n",
            "Iteration: 33500. Loss: 0.7343921065330505. Accuracy: 86.35714285714286\n",
            "Iteration: 34000. Loss: 0.5099372267723083. Accuracy: 84.94285714285714\n",
            "Iteration: 34500. Loss: 0.30090683698654175. Accuracy: 86.06428571428572\n",
            "Iteration: 35000. Loss: 0.18668057024478912. Accuracy: 86.32857142857142\n",
            "Iteration: 35500. Loss: 0.3172454833984375. Accuracy: 85.94285714285714\n",
            "Iteration: 36000. Loss: 0.5466788411140442. Accuracy: 85.82142857142857\n",
            "Iteration: 36500. Loss: 0.4462578594684601. Accuracy: 85.78571428571429\n",
            "Iteration: 37000. Loss: 0.489705890417099. Accuracy: 85.69285714285714\n",
            "Iteration: 37500. Loss: 0.26224595308303833. Accuracy: 85.93571428571428\n",
            "Iteration: 38000. Loss: 0.21174003183841705. Accuracy: 85.38571428571429\n",
            "Iteration: 38500. Loss: 0.14831198751926422. Accuracy: 86.41428571428571\n",
            "Iteration: 39000. Loss: 0.4628840386867523. Accuracy: 84.43571428571428\n",
            "Iteration: 39500. Loss: 0.7068788409233093. Accuracy: 85.47857142857143\n",
            "Iteration: 40000. Loss: 0.5167372226715088. Accuracy: 84.2\n",
            "Iteration: 40500. Loss: 0.3820662200450897. Accuracy: 84.88571428571429\n",
            "Iteration: 41000. Loss: 0.42092061042785645. Accuracy: 85.11428571428571\n",
            "Iteration: 41500. Loss: 0.49857285618782043. Accuracy: 86.3\n",
            "Iteration: 42000. Loss: 0.2927377223968506. Accuracy: 86.13571428571429\n",
            "Iteration: 42500. Loss: 0.35984212160110474. Accuracy: 84.05\n",
            "Iteration: 43000. Loss: 0.2544853389263153. Accuracy: 85.72142857142858\n",
            "Iteration: 43500. Loss: 0.5291889309883118. Accuracy: 85.41428571428571\n",
            "Iteration: 44000. Loss: 0.23722676932811737. Accuracy: 83.54285714285714\n",
            "Iteration: 44500. Loss: 0.537937343120575. Accuracy: 84.76428571428572\n",
            "Iteration: 45000. Loss: 0.25336936116218567. Accuracy: 85.43571428571428\n",
            "Iteration: 45500. Loss: 0.789354681968689. Accuracy: 82.28571428571429\n",
            "Iteration: 46000. Loss: 0.2936357259750366. Accuracy: 86.62857142857143\n",
            "Iteration: 46500. Loss: 0.5252317190170288. Accuracy: 83.02142857142857\n",
            "Iteration: 47000. Loss: 0.5641912221908569. Accuracy: 85.56428571428572\n",
            "Iteration: 47500. Loss: 0.39929428696632385. Accuracy: 86.5\n",
            "Iteration: 48000. Loss: 0.39600905776023865. Accuracy: 86.12142857142857\n",
            "Iteration: 48500. Loss: 0.3037344813346863. Accuracy: 85.14285714285714\n",
            "Iteration: 49000. Loss: 0.5396214127540588. Accuracy: 86.11428571428571\n"
          ]
        }
      ]
    },
    {
      "cell_type": "code",
      "metadata": {
        "colab": {
          "base_uri": "https://localhost:8080/",
          "height": 279
        },
        "id": "eLrwJePKQyae",
        "outputId": "2c3868de-bf97-4bd6-9cfe-4774a8f04512"
      },
      "source": [
        "plt.plot(iteration_loss)\n",
        "plt.ylabel('Cross Entropy Loss')\n",
        "plt.xlabel('Iteration (in every 500)')\n",
        "plt.show()"
      ],
      "execution_count": null,
      "outputs": [
        {
          "output_type": "display_data",
          "data": {
            "image/png": "[encoded data removed]",
            "text/plain": [
              "<Figure size 432x288 with 1 Axes>"
            ]
          },
          "metadata": {
            "needs_background": "light"
          }
        }
      ]
    }
  ]
}